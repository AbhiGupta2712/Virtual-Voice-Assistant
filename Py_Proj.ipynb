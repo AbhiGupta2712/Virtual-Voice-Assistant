{
 "cells": [
  {
   "cell_type": "code",
   "execution_count": 9,
   "id": "9fc7e242",
   "metadata": {},
   "outputs": [],
   "source": [
    "import pyttsx3\n",
    "engine = pyttsx3.init('sapi5')\n",
    "engine.setProperty('rate',180)\n",
    "engine.setProperty('volume',1.0)\n",
    "voices = engine.getProperty('voices')\n",
    "    engine.setProperty('voice', voices[1].id)"
   ]
  },
  {
   "cell_type": "code",
   "execution_count": 10,
   "id": "7f30c990",
   "metadata": {},
   "outputs": [],
   "source": [
    "def speak(text):\n",
    "    engine.say(text)\n",
    "    engine.runAndWait()"
   ]
  },
  {
   "cell_type": "code",
   "execution_count": 36,
   "id": "1c1d19e4",
   "metadata": {},
   "outputs": [],
   "source": [
    "from datetime import datetime\n",
    "def greet_user():\n",
    "    hour = datetime.now().hour\n",
    "    if (hour >= 6) and (hour < 12):\n",
    "        speak(\"Good Morning Everyone\")\n",
    "    elif (hour >= 12) and (hour < 16):\n",
    "        speak(\"Good afternoon Everyone\")\n",
    "    elif (hour >= 16) and (hour < 23):\n",
    "        speak(\"Good Evening Everyone\")\n",
    "    speak(\"I am DoDo. Your personal Virtual Assistant. How can I help you?\")"
   ]
  },
  {
   "cell_type": "code",
   "execution_count": 12,
   "id": "bb993c57",
   "metadata": {},
   "outputs": [],
   "source": [
    "import speech_recognition as sr\n",
    "from random import choice\n",
    "react=[\"Cool, I'm on it sir.\",\"Okay sir, I'm working on it.\",\"Just a second sir.\"]\n",
    "def user_input():\n",
    "    r = sr.Recognizer()\n",
    "    with sr.Microphone() as source:\n",
    "        print('Listening....')\n",
    "        r.pause_threshold = 1\n",
    "        audio = r.listen(source)\n",
    "    try:\n",
    "        print('Recognizing...')\n",
    "        query = r.recognize_google(audio, language='en-in')\n",
    "        speak(choice(react))\n",
    "    except Exception:\n",
    "        speak('Sorry, I could not understand. Could you please say that again?')\n",
    "        query = 'None'\n",
    "    print(query)\n",
    "    return query"
   ]
  },
  {
   "cell_type": "code",
   "execution_count": 46,
   "id": "48fae745",
   "metadata": {},
   "outputs": [],
   "source": [
    "def jks():\n",
    "    jokes=open(\"D:/jokes.txt\",\"r\")\n",
    "    line=jokes.readlines()\n",
    "    return choice(line)"
   ]
  },
  {
   "cell_type": "code",
   "execution_count": 3,
   "id": "f1708eec",
   "metadata": {},
   "outputs": [],
   "source": [
    "import wikipedia,pywhatkit as kit\n",
    "def srch_wiki(query):\n",
    "    result=wikipedia.summary(query, sentences=2)\n",
    "    return result"
   ]
  },
  {
   "cell_type": "code",
   "execution_count": 4,
   "id": "78c3f699",
   "metadata": {},
   "outputs": [],
   "source": [
    "def ggl_srch(sr):\n",
    "    kit.search(sr)"
   ]
  },
  {
   "cell_type": "code",
   "execution_count": 5,
   "id": "4bda47db",
   "metadata": {},
   "outputs": [],
   "source": [
    "def yt_vid(vd):\n",
    "    kit.playonyt(vd)"
   ]
  },
  {
   "cell_type": "code",
   "execution_count": null,
   "id": "55840151",
   "metadata": {},
   "outputs": [],
   "source": [
    "dir={\"con-1\":\"00000000000\",\"con-2\":\"11111111111111\",\"con-3\":\"222222222222\"}\n",
    "def wp_snd(num,msg):\n",
    "    hour = datetime.now().hour\n",
    "    minute=datetime.now().minute\n",
    "    if minute+1>60:\n",
    "        hour+=1\n",
    "    kit.sendwhatmsg(\"+91\"+num,msg,hour,minute+1)\n",
    "    speak(\"Your message is being delivered.\")"
   ]
  },
  {
   "cell_type": "code",
   "execution_count": 47,
   "id": "f01b2a34",
   "metadata": {},
   "outputs": [],
   "source": [
    "def main():\n",
    "    greet_user()\n",
    "    task=user_input()\n",
    "    while not \"exit\" in task or \"Exit\" in task:\n",
    "        if \"what\" in task or \"What\" in task or \"who\" in task or \"Who\" in task:\n",
    "            speak(srch_wiki(task))\n",
    "        if \"search\" in task or \"Search\" in task:\n",
    "            ggl_srch(task)\n",
    "        if \"stream\" in task or \"Stream\" in task:\n",
    "            yt_vid(task)\n",
    "        if \"crack\" in task or \"Crack\" in task:\n",
    "            speak(jks())\n",
    "        if \"send\" in task or \"Send\" in task:\n",
    "            speak(\"What message do I send?\")\n",
    "            msg=user_input()\n",
    "            rec=task.split(\" \")\n",
    "            wp_snd(dir[rec[-1].lower()],msg)\n",
    "        speak(\"Is there anything more I can help you with?\")\n",
    "        task=user_input()\n",
    "    else:\n",
    "        hour = datetime.now().hour\n",
    "        if hour >= 21 and hour < 6:\n",
    "            speak(\"Good night sir, take care!\")\n",
    "        else:\n",
    "            speak('Have a good day sir!')"
   ]
  },
  {
   "cell_type": "code",
   "execution_count": 37,
   "id": "f6d6eb96",
   "metadata": {},
   "outputs": [
    {
     "name": "stdout",
     "output_type": "stream",
     "text": [
      "Listening....\n",
      "Recognizing...\n",
      "result2:\n",
      "{   'alternative': [   {'confidence': 0.77234137, 'transcript': 'exit'},\n",
      "                       {'transcript': 'except'},\n",
      "                       {'transcript': 'accept'},\n",
      "                       {'transcript': 'exact'},\n",
      "                       {'transcript': 'accent'}],\n",
      "    'final': True}\n",
      "exit\n"
     ]
    }
   ],
   "source": [
    "from tkinter import *\n",
    "root=Tk()\n",
    "root.title(\"Virtual Assistant\")\n",
    "root.geometry(\"350x200\")\n",
    "frame=Frame(root,borderwidth=40,relief=SUNKEN,padx=100)\n",
    "frame.pack(side=TOP,fill=Y,anchor=NW)\n",
    "button1=Button(frame,text=\"DoDo\",foreground=\"blue\",command=main)\n",
    "button1.pack(pady=23)\n",
    "root.mainloop()"
   ]
  },
  {
   "cell_type": "code",
   "execution_count": null,
   "id": "efbd451c",
   "metadata": {},
   "outputs": [],
   "source": []
  }
 ],
 "metadata": {
  "kernelspec": {
   "display_name": "Python 3 (ipykernel)",
   "language": "python",
   "name": "python3"
  },
  "language_info": {
   "codemirror_mode": {
    "name": "ipython",
    "version": 3
   },
   "file_extension": ".py",
   "mimetype": "text/x-python",
   "name": "python",
   "nbconvert_exporter": "python",
   "pygments_lexer": "ipython3",
   "version": "3.9.13"
  }
 },
 "nbformat": 4,
 "nbformat_minor": 5
}
